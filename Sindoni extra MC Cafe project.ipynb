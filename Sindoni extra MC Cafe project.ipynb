{
 "cells": [
  {
   "cell_type": "code",
   "execution_count": null,
   "metadata": {},
   "outputs": [],
   "source": [
    "#Your instructors love coffee so much that they decided to open a cafe! Of course, we will need the help of our students to develop the ordering app that the customers can use.\n",
    "\n",
    "On the cafe menu, there are three categories for the items we sell - coffee, tea, and pastries.\n",
    "\n",
    "Coffee\n",
    "Espresso - $1.50\n",
    "Americano - $2.00\n",
    "Caffe latte - $2.25\n",
    "Mocha - $2.25\n",
    "Cappucino - $2.50\n",
    "Macchiato - $2.50\n",
    "\n",
    "Tea\n",
    "White tea - $1.50\n",
    "Green tea - $2.00\n",
    "Oolong tea - $2.25\n",
    "Black tea - $2.25\n",
    "Earl Grey - $2.50\n",
    "Matcha - $2.50\n",
    "\n",
    "Pastries\n",
    "Croissant - $5.50\n",
    "Cinnamon roll - $4.50\n",
    "Banana bread - $4.25\n",
    "Pumpkin bread - $3.75\n",
    "Sticky bun - $4.25\n",
    "Apple turnover - $3.75\n",
    "\n",
    "When your program first starts, you must greet the customers by saying, \"Welcome to MC Cafe!\" Then ask the customer if they would like to see the menu. If yes, then display the menu items and prices.\n",
    "\n",
    "Then ask the user if they would like to order. If yes, then prompt the customer to enter an item and the quantity that they want. After they input an item, then ask them if they would like to order another item.\n",
    "\n",
    "Once your customers are finished with the order input, then display an order receipt that lists the items that they ordered and the quantity. Then at the bottom of the receipt, display the subtotal (the amount of the item before tax), the amount in sales tax (our business is in Maryland, so state tax is 6%), and finally their grand total (subtotal plus sales tax).\n",
    "\n",
    "At the end of their transaction, display a message to our customers saying, \"Thank you for visiting MC Cafe!\"\n"
   ]
  },
  {
   "cell_type": "code",
   "execution_count": 23,
   "metadata": {},
   "outputs": [
    {
     "ename": "SyntaxError",
     "evalue": "invalid syntax (<ipython-input-23-f845eecc6cb3>, line 1)",
     "output_type": "error",
     "traceback": [
      "\u001b[1;36m  File \u001b[1;32m\"<ipython-input-23-f845eecc6cb3>\"\u001b[1;36m, line \u001b[1;32m1\u001b[0m\n\u001b[1;33m    MC Cafe Menu\u001b[0m\n\u001b[1;37m          ^\u001b[0m\n\u001b[1;31mSyntaxError\u001b[0m\u001b[1;31m:\u001b[0m invalid syntax\n"
     ]
    }
   ],
   "source": [
    "MC Cafe Menu\n",
    "\n",
    "Coffee\n",
    "Espresso - $1.50\n",
    "Americano - $2.00\n",
    "Caffe latte - $2.25\n",
    "Mocha - $2.25\n",
    "Cappucino - $2.50\n",
    "Macchiato - $2.50\n",
    "\n",
    "Tea\n",
    "White tea - $1.50\n",
    "Green tea - $2.00\n",
    "Oolong tea - $2.25\n",
    "Black tea - $2.25\n",
    "Earl Grey - $2.50\n",
    "Matcha - $2.50\n",
    "\n",
    "Pastries\n",
    "Croissant - $5.50\n",
    "Cinnamon roll - $4.50\n",
    "Banana bread - $4.25\n",
    "Pumpkin bread - $3.75\n",
    "Sticky bun - $4.25\n",
    "Apple turnover - $3.75\n",
    "\n",
    "#I'm not 100% how to create a nice message. I'm pretty sure I need to do it in markup."
   ]
  },
  {
   "cell_type": "code",
   "execution_count": 1,
   "metadata": {},
   "outputs": [
    {
     "name": "stdout",
     "output_type": "stream",
     "text": [
      "Welcome to MC Cafe, please see the menu listed above.\n",
      "Would you like to order something, yes or no? yes\n",
      "What item would you like? Oolong tea\n",
      "How many, please? 1\n",
      "Would you like a second item, yes or no? yes\n",
      "Your second item? Americano\n",
      "And how many? 2\n",
      "How about a last item? yes\n",
      "What will your last item be? Banana bread\n",
      "How many? 3\n",
      "Your Receipt: \n",
      "Oolong tea\t1\n",
      "Americano\t2\n",
      "Banana bread\t3\n",
      "Subtotal: $19.00\n",
      "Tax Amount: $1.14\n",
      "Total: $20.14\n",
      "Thank you for visiting MC Cafe!\n"
     ]
    }
   ],
   "source": [
    "items = {\"Espresso\": 1.5, \"Americano\": 2.0, \"Caffe late\": 2.25, \"Mocha\": 2.25, \"Cappucino\": 2.5, \"Macchiato\": 2.5, \"White tea\": 1.5, \"Green tea\": 2.0, \"Oolong tea\": 2.25, \"Black tea\": 2.25, \"Earl Grey\" : 2.5, \"Matcha\" : 2.5, \"Croissant\": 5.5, \"Cinnamon roll\": 4.50, \"Banana bread\" : 4.25, \"Pumpkin bread\": 3.75, \"Sticky bun\" : 4.25}\n",
    "\n",
    "print(\"Welcome to MC Cafe, please see the menu listed above.\")\n",
    "choice = input(\"Would you like to order something, yes or no? \")\n",
    "if choice == \"no\":\n",
    "    print(\"Okay, well have a nice day.\")\n",
    "if choice == \"yes\":\n",
    "    item1 = input(\"What item would you like? \")\n",
    "    itemN1 = int(input(\"How many, please? \"))\n",
    "choice2 = input(\"Would you like a second item, yes or no? \")\n",
    "if choice2 == \"yes\":\n",
    "    item2 = input(\"Your second item? \")\n",
    "    itemN2 = int(input(\"And how many? \"))\n",
    "choice3 = input(\"How about a last item? \")\n",
    "if choice3 == \"yes\":\n",
    "    item3 = input(\"What will your last item be? \")\n",
    "    itemN3 = int(input(\"How many? \"))\n",
    "\n",
    "first_item = items.get(item1)\n",
    "first_item_total = first_item * itemN1\n",
    "second_item = items.get(item2)\n",
    "second_item_total = second_item * itemN2\n",
    "third_item = items.get(item3)\n",
    "third_item_total = third_item * itemN3\n",
    "subtotal = first_item_total + second_item_total + third_item_total\n",
    "tax = subtotal * .06\n",
    "total = subtotal + tax\n",
    "\n",
    "message = (f\"Your Receipt: \\n{item1}\\t{itemN1}\\n{item2}\\t{itemN2}\\n{item3}\\t{itemN3}\\nSubtotal: ${subtotal:.2f}\\nTax Amount: ${tax:.2f}\\nTotal: ${total:.2f}\\nThank you for visiting MC Cafe!\")\n",
    "print(message)\n",
    "\n"
   ]
  },
  {
   "cell_type": "code",
   "execution_count": null,
   "metadata": {},
   "outputs": [],
   "source": []
  }
 ],
 "metadata": {
  "kernelspec": {
   "display_name": "Python 3",
   "language": "python",
   "name": "python3"
  },
  "language_info": {
   "codemirror_mode": {
    "name": "ipython",
    "version": 3
   },
   "file_extension": ".py",
   "mimetype": "text/x-python",
   "name": "python",
   "nbconvert_exporter": "python",
   "pygments_lexer": "ipython3",
   "version": "3.7.6"
  }
 },
 "nbformat": 4,
 "nbformat_minor": 4
}
